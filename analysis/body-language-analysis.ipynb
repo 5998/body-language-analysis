{
 "cells": [
  {
   "cell_type": "markdown",
   "metadata": {},
   "source": [
    "## Body Language Analysis"
   ]
  },
  {
   "cell_type": "code",
   "execution_count": 128,
   "metadata": {},
   "outputs": [],
   "source": [
    "import warnings\n",
    "\n",
    "import pandas as pd\n",
    "import numpy as np\n",
    "import matplotlib.pyplot as plt\n",
    "import seaborn as sns\n",
    "\n",
    "warnings.filterwarnings('ignore')"
   ]
  },
  {
   "cell_type": "code",
   "execution_count": 129,
   "metadata": {},
   "outputs": [],
   "source": [
    "# Read the data\n",
    "experiment_file_path = '../data/experiment-new.csv'\n",
    "df_experiment = pd.read_csv(experiment_file_path)"
   ]
  },
  {
   "cell_type": "code",
   "execution_count": 130,
   "metadata": {},
   "outputs": [],
   "source": [
    "# Clean the data # Clean the scores\n",
    "df_experiment.columns = [c.replace(' ', '_') for c in df_experiment.columns]\n",
    "df_experiment.Score = df_experiment.Score.map(lambda x: int(x[0]))\n",
    "df_experiment.Score3 = df_experiment.Score3.map(lambda x: int(x[0]))\n",
    "\n",
    "# Rename some columns for convenience\n",
    "df_experiment['Country'] = df_experiment['1.1_Which_country_are_you_from?']\n",
    "df_experiment['Gender'] = df_experiment['1.2_Please_choose_your_gender']\n",
    "df_experiment.drop(columns=['1.1_Which_country_are_you_from?', '1.2_Please_choose_your_gender'], inplace=True)\n",
    "\n",
    "# Filter out the rows required\n",
    "retain_cols = ['Country', 'Gender', 'Age', 'Calc', 'Calc2', 'Calc3', 'Calc4', 'Calc5', 'Calc6', 'Calc7', 'Calc8', 'Score', 'Calc9', 'Calc10', 'Calc11', 'Calc12', 'Calc13', 'Calc14', 'Score3']\n",
    "df_experiment = df_experiment.filter(items=retain_cols, axis='columns')"
   ]
  },
  {
   "cell_type": "code",
   "execution_count": 131,
   "metadata": {},
   "outputs": [
    {
     "data": {
      "text/plain": [
       "Index(['Country', 'Gender', 'Age', 'Calc', 'Calc2', 'Calc3', 'Calc4', 'Calc5',\n",
       "       'Calc6', 'Calc7', 'Calc8', 'Score', 'Calc9', 'Calc10', 'Calc11',\n",
       "       'Calc12', 'Calc13', 'Calc14', 'Score3'],\n",
       "      dtype='object')"
      ]
     },
     "execution_count": 131,
     "metadata": {},
     "output_type": "execute_result"
    }
   ],
   "source": [
    "df_experiment.columns"
   ]
  },
  {
   "cell_type": "code",
   "execution_count": 132,
   "metadata": {
    "scrolled": true
   },
   "outputs": [
    {
     "data": {
      "text/html": [
       "<div>\n",
       "<style scoped>\n",
       "    .dataframe tbody tr th:only-of-type {\n",
       "        vertical-align: middle;\n",
       "    }\n",
       "\n",
       "    .dataframe tbody tr th {\n",
       "        vertical-align: top;\n",
       "    }\n",
       "\n",
       "    .dataframe thead th {\n",
       "        text-align: right;\n",
       "    }\n",
       "</style>\n",
       "<table border=\"1\" class=\"dataframe\">\n",
       "  <thead>\n",
       "    <tr style=\"text-align: right;\">\n",
       "      <th></th>\n",
       "      <th>Country</th>\n",
       "      <th>Gender</th>\n",
       "      <th>Age</th>\n",
       "      <th>Calc</th>\n",
       "      <th>Calc2</th>\n",
       "      <th>Calc3</th>\n",
       "      <th>Calc4</th>\n",
       "      <th>Calc5</th>\n",
       "      <th>Calc6</th>\n",
       "      <th>Calc7</th>\n",
       "      <th>Calc8</th>\n",
       "      <th>Score</th>\n",
       "      <th>Calc9</th>\n",
       "      <th>Calc10</th>\n",
       "      <th>Calc11</th>\n",
       "      <th>Calc12</th>\n",
       "      <th>Calc13</th>\n",
       "      <th>Calc14</th>\n",
       "      <th>Score3</th>\n",
       "    </tr>\n",
       "  </thead>\n",
       "  <tbody>\n",
       "    <tr>\n",
       "      <th>51</th>\n",
       "      <td>China</td>\n",
       "      <td>Female</td>\n",
       "      <td>26</td>\n",
       "      <td>0</td>\n",
       "      <td>-1</td>\n",
       "      <td>0</td>\n",
       "      <td>1</td>\n",
       "      <td>1</td>\n",
       "      <td>1</td>\n",
       "      <td>1</td>\n",
       "      <td>1</td>\n",
       "      <td>4</td>\n",
       "      <td>1</td>\n",
       "      <td>1</td>\n",
       "      <td>2</td>\n",
       "      <td>0</td>\n",
       "      <td>-1</td>\n",
       "      <td>1</td>\n",
       "      <td>6</td>\n",
       "    </tr>\n",
       "    <tr>\n",
       "      <th>44</th>\n",
       "      <td>Greece</td>\n",
       "      <td>Male</td>\n",
       "      <td>30</td>\n",
       "      <td>2</td>\n",
       "      <td>-2</td>\n",
       "      <td>0</td>\n",
       "      <td>1</td>\n",
       "      <td>-1</td>\n",
       "      <td>1</td>\n",
       "      <td>2</td>\n",
       "      <td>0</td>\n",
       "      <td>3</td>\n",
       "      <td>-1</td>\n",
       "      <td>-2</td>\n",
       "      <td>1</td>\n",
       "      <td>1</td>\n",
       "      <td>-1</td>\n",
       "      <td>1</td>\n",
       "      <td>2</td>\n",
       "    </tr>\n",
       "    <tr>\n",
       "      <th>34</th>\n",
       "      <td>Germany</td>\n",
       "      <td>Female</td>\n",
       "      <td>25</td>\n",
       "      <td>1</td>\n",
       "      <td>0</td>\n",
       "      <td>0</td>\n",
       "      <td>0</td>\n",
       "      <td>0</td>\n",
       "      <td>0</td>\n",
       "      <td>1</td>\n",
       "      <td>0</td>\n",
       "      <td>2</td>\n",
       "      <td>1</td>\n",
       "      <td>0</td>\n",
       "      <td>0</td>\n",
       "      <td>-1</td>\n",
       "      <td>-1</td>\n",
       "      <td>0</td>\n",
       "      <td>4</td>\n",
       "    </tr>\n",
       "    <tr>\n",
       "      <th>46</th>\n",
       "      <td>India</td>\n",
       "      <td>Female</td>\n",
       "      <td>28</td>\n",
       "      <td>0</td>\n",
       "      <td>0</td>\n",
       "      <td>0</td>\n",
       "      <td>0</td>\n",
       "      <td>0</td>\n",
       "      <td>0</td>\n",
       "      <td>0</td>\n",
       "      <td>0</td>\n",
       "      <td>3</td>\n",
       "      <td>0</td>\n",
       "      <td>0</td>\n",
       "      <td>0</td>\n",
       "      <td>0</td>\n",
       "      <td>0</td>\n",
       "      <td>0</td>\n",
       "      <td>2</td>\n",
       "    </tr>\n",
       "    <tr>\n",
       "      <th>25</th>\n",
       "      <td>India</td>\n",
       "      <td>Female</td>\n",
       "      <td>26</td>\n",
       "      <td>-1</td>\n",
       "      <td>-1</td>\n",
       "      <td>0</td>\n",
       "      <td>-1</td>\n",
       "      <td>-1</td>\n",
       "      <td>-1</td>\n",
       "      <td>-2</td>\n",
       "      <td>-2</td>\n",
       "      <td>3</td>\n",
       "      <td>-2</td>\n",
       "      <td>-1</td>\n",
       "      <td>-2</td>\n",
       "      <td>-1</td>\n",
       "      <td>-1</td>\n",
       "      <td>-1</td>\n",
       "      <td>3</td>\n",
       "    </tr>\n",
       "  </tbody>\n",
       "</table>\n",
       "</div>"
      ],
      "text/plain": [
       "    Country  Gender  Age  Calc  Calc2  Calc3  Calc4  Calc5  Calc6  Calc7  \\\n",
       "51    China  Female   26     0     -1      0      1      1      1      1   \n",
       "44   Greece    Male   30     2     -2      0      1     -1      1      2   \n",
       "34  Germany  Female   25     1      0      0      0      0      0      1   \n",
       "46    India  Female   28     0      0      0      0      0      0      0   \n",
       "25    India  Female   26    -1     -1      0     -1     -1     -1     -2   \n",
       "\n",
       "    Calc8  Score  Calc9  Calc10  Calc11  Calc12  Calc13  Calc14  Score3  \n",
       "51      1      4      1       1       2       0      -1       1       6  \n",
       "44      0      3     -1      -2       1       1      -1       1       2  \n",
       "34      0      2      1       0       0      -1      -1       0       4  \n",
       "46      0      3      0       0       0       0       0       0       2  \n",
       "25     -2      3     -2      -1      -2      -1      -1      -1       3  "
      ]
     },
     "metadata": {},
     "output_type": "display_data"
    }
   ],
   "source": [
    "display(df_experiment.sample(5))"
   ]
  },
  {
   "cell_type": "code",
   "execution_count": 133,
   "metadata": {},
   "outputs": [
    {
     "data": {
      "text/plain": [
       "{'India': 20,\n",
       " 'Other': 15,\n",
       " 'Germany': 11,\n",
       " 'Greece': 4,\n",
       " 'Tunesia': 3,\n",
       " 'China': 2,\n",
       " 'Ecuador': 2,\n",
       " 'Denemark': 2,\n",
       " 'Iran': 2}"
      ]
     },
     "execution_count": 133,
     "metadata": {},
     "output_type": "execute_result"
    }
   ],
   "source": [
    "# Group single respondents from a particular country into a group called 'Other'\n",
    "num, country = df_experiment.Country.value_counts(), df_experiment.Country.value_counts().index\n",
    "countries_with_single_respondent = []\n",
    "for c, n in zip(country, num):\n",
    "    if(n == 1):\n",
    "        countries_with_single_respondent.append(c)\n",
    "df_experiment.Country.replace(to_replace=countries_with_single_respondent, value='Other', inplace=True)\n",
    "num, country = df_experiment.Country.value_counts(), df_experiment.Country.value_counts().index # update values\n",
    "country_total = dict((c, n) for c, n in zip(country, num))\n",
    "country_total"
   ]
  },
  {
   "cell_type": "code",
   "execution_count": 90,
   "metadata": {},
   "outputs": [
    {
     "name": "stdout",
     "output_type": "stream",
     "text": [
      "Total number of participants:  61\n",
      "\n",
      "Different nationalities in survey:\n",
      " India       20\n",
      "Other       15\n",
      "Germany     11\n",
      "Greece       4\n",
      "Tunesia      3\n",
      "China        2\n",
      "Ecuador      2\n",
      "Denemark     2\n",
      "Iran         2\n",
      "Name: Country, dtype: int64\n"
     ]
    }
   ],
   "source": [
    "# How many countries answered the survey\n",
    "\n",
    "countries = df_experiment['Country']\n",
    "print(\"Total number of participants: \", countries.count())\n",
    "print(\"\\nDifferent nationalities in survey:\\n\", countries.value_counts())\n",
    "# display(countries.value_counts())\n",
    "# countries.nunique()"
   ]
  },
  {
   "cell_type": "code",
   "execution_count": 91,
   "metadata": {},
   "outputs": [
    {
     "data": {
      "image/png": "[encoded data removed]",
      "text/plain": [
       "<Figure size 1080x720 with 1 Axes>"
      ]
     },
     "metadata": {},
     "output_type": "display_data"
    }
   ],
   "source": [
    "# Number of respondents, grouped by country\n",
    "fig = plt.figure()\n",
    "props = {\n",
    "    'title' : 'Number of survey respondents grouped by Country',\n",
    "    'yticks' : range(0,22,2),\n",
    "    'figsize' : (15, 10),\n",
    "#     \"ax\" : {\n",
    "#         'get_figure' : fig,\n",
    "#         'set_xlabel' : 'abc',\n",
    "#         'set_ylabel' : 'cba'\n",
    "#     },\n",
    "}\n",
    "ax = df_experiment['Country'].value_counts().plot.bar(**props)\n",
    "ax.set_xlabel('Country')\n",
    "ax.set_ylabel('Number of respondents')\n",
    "ax = fig.add_subplot(ax)\n",
    "fig.savefig('respondents-per-country.eps', dpi=5000)"
   ]
  },
  {
   "cell_type": "code",
   "execution_count": 92,
   "metadata": {
    "scrolled": true
   },
   "outputs": [],
   "source": [
    "# score above 3 sorted by country\n",
    "\n",
    "country_based_score = df_experiment[['Country', 'Score', 'Score3']]\n",
    "country_based_score_greaterthan3 = country_based_score.loc[(country_based_score['Score'] > 3) | (country_based_score['Score3'] > 3)]\n",
    "countries_count_score = country_based_score_greaterthan3['Country']\n",
    "# countries_count_score.value_counts()"
   ]
  },
  {
   "cell_type": "code",
   "execution_count": 93,
   "metadata": {},
   "outputs": [
    {
     "data": {
      "image/png": "[encoded data removed]",
      "text/plain": [
       "<Figure size 1440x720 with 1 Axes>"
      ]
     },
     "metadata": {},
     "output_type": "display_data"
    }
   ],
   "source": [
    "objects = countries_count_score.value_counts().index\n",
    "y_pos = np.arange(len(objects))\n",
    "performance = countries_count_score.value_counts()\n",
    "\n",
    "fig = plt.figure(figsize=(20,10))\n",
    "plt.bar(y_pos, performance, align='center', alpha=0.7)\n",
    "plt.xticks(y_pos, objects)\n",
    "# plt.xticklabels(rotation=30)\n",
    "plt.ylabel('User count per country')\n",
    "plt.title('Country')\n",
    "fig.savefig('increase-of-awareness-byCountry.png')\n",
    "fig.show()\n",
    "\n",
    "# {'title': 'Number of people with high score, grouped by Country',\n",
    "#  'xlabel': 'Country',\n",
    "#  'ylabel': 'Number of people'}"
   ]
  },
  {
   "cell_type": "code",
   "execution_count": 94,
   "metadata": {},
   "outputs": [
    {
     "name": "stdout",
     "output_type": "stream",
     "text": [
      "Total number of people sorted by Gender: \n",
      " Males 50 Females 11\n",
      "Score above 3 sorted by Gender:\n",
      " Male      26\n",
      "Female     5\n",
      "Name: Gender, dtype: int64\n",
      "Percentage Males: 52% Females: 45%\n"
     ]
    }
   ],
   "source": [
    "# Score above 3 sorted by gender\n",
    "\n",
    "gender_based_score = df_experiment[['Gender', 'Score', 'Score3']]\n",
    "total_males = gender_based_score.loc[gender_based_score['Gender'] == \"Male\"]\n",
    "total_males = total_males.count()\n",
    "total_females = gender_based_score.loc[gender_based_score['Gender'] == \"Female\"]\n",
    "total_females = total_females.count()\n",
    "\n",
    "gender_based_score_greaterthan3 = gender_based_score.loc[(gender_based_score['Score'] > 3) | (gender_based_score['Score3'] > 3)]\n",
    "gender_count_score = gender_based_score_greaterthan3['Gender']\n",
    "print(\"Total number of people sorted by Gender: \\n Males %d Females %d\" %(total_males[1], total_females[1]) )\n",
    "print(\"Score above 3 sorted by Gender:\\n\", gender_count_score.value_counts())\n",
    "\n",
    "calculate_percentage_males = (26/total_males[1]) * 100\n",
    "calculate_percentage_females = (5/total_females[1]) * 100\n",
    "print(\"Percentage Males: %d%% Females: %d%%\" %(calculate_percentage_males, calculate_percentage_females))"
   ]
  },
  {
   "cell_type": "code",
   "execution_count": 95,
   "metadata": {},
   "outputs": [
    {
     "data": {
      "image/png": "[encoded data removed]",
      "text/plain": [
       "<Figure size 360x360 with 1 Axes>"
      ]
     },
     "metadata": {},
     "output_type": "display_data"
    }
   ],
   "source": [
    "objects = ('Male', 'Female')\n",
    "y_pos = np.arange(len(objects))\n",
    "performance = [52, 45]\n",
    " \n",
    "plt.figure(figsize=(5,5))\n",
    "plt.bar(y_pos, performance, align='center', alpha=0.5)\n",
    "plt.xticks(y_pos, objects)\n",
    "plt.ylabel('Percentange')\n",
    "plt.yticks(range(0,100,10))\n",
    "plt.xlabel('Gender')\n",
    "plt.title('Percentange of people with high score, grouped by Gender')\n",
    "plt.savefig('highest-grade-gender.eps', dpi=5000)\n",
    "plt.show()"
   ]
  },
  {
   "cell_type": "code",
   "execution_count": 156,
   "metadata": {},
   "outputs": [],
   "source": [
    "# Functions to calculate the the user's awareness before and after the survey\n",
    "# Each respondent is assigned a value True/False based on their answers, before and after the survey\n",
    "def taboo_rating(row):\n",
    "    count = 0\n",
    "    if(row['Calc'] > 0):\n",
    "        count+=1\n",
    "    if(row['Calc2'] > 0):\n",
    "        count+=1\n",
    "    if(row['Calc3'] > 0):\n",
    "        count+=1\n",
    "    if(row['Calc4'] > 0):\n",
    "        count+=1\n",
    "    if(row['Calc5'] > 0):\n",
    "        count+=1\n",
    "    if(row['Calc6'] > 0):\n",
    "        count+=1\n",
    "    if(row['Calc7'] > 0):\n",
    "        count+=1\n",
    "    if(row['Calc8'] > 0):\n",
    "        count+=1\n",
    "    if(count >= 2):\n",
    "        return True\n",
    "    else: \n",
    "        return False\n",
    "    \n",
    "def body_lang_rating(row):\n",
    "    count = 0\n",
    "    if(row['Calc9'] > 0):\n",
    "        count+=1\n",
    "    if(row['Calc10'] > 0):\n",
    "        count+=1\n",
    "    if(row['Calc11'] > 0):\n",
    "        count+=1\n",
    "    if(row['Calc12'] > 0):\n",
    "        count+=1\n",
    "    if(row['Calc13'] > 0):\n",
    "        count+=1\n",
    "    if(row['Calc14'] > 0):\n",
    "        count+=1\n",
    "    if(count >= 2):\n",
    "        return True\n",
    "    else: \n",
    "        return False\n",
    "\n",
    "def calculate_percentage_country(subject_dataframe, country_total):\n",
    "    subject_dict = {}\n",
    "    aware_countries, num = subject_dataframe.Country.value_counts().index, subject_dataframe.Country.value_counts()\n",
    "    for c, n in zip(aware_countries, num):\n",
    "        print(c, n)\n",
    "        print(round((n/country_total.get(c))*100))\n",
    "        subject_dict.append(c, round((n/country_total.get(c))*100))\n",
    "    return subject_dict\n",
    "    "
   ]
  },
  {
   "cell_type": "code",
   "execution_count": 157,
   "metadata": {
    "scrolled": true
   },
   "outputs": [
    {
     "name": "stdout",
     "output_type": "stream",
     "text": [
      "Other 3\n",
      "20\n"
     ]
    },
    {
     "ename": "AttributeError",
     "evalue": "'dict' object has no attribute 'append'",
     "output_type": "error",
     "traceback": [
      "\u001b[0;31m---------------------------------------------------------------------------\u001b[0m",
      "\u001b[0;31mAttributeError\u001b[0m                            Traceback (most recent call last)",
      "\u001b[0;32m<ipython-input-157-7ef06df1c9e2>\u001b[0m in \u001b[0;36m<module>\u001b[0;34m()\u001b[0m\n\u001b[1;32m     21\u001b[0m \u001b[0;31m# }\u001b[0m\u001b[0;34m\u001b[0m\u001b[0;34m\u001b[0m\u001b[0m\n\u001b[1;32m     22\u001b[0m \u001b[0;31m# df_taboo.plot(x='Country', y='Score', kind='bar')\u001b[0m\u001b[0;34m\u001b[0m\u001b[0;34m\u001b[0m\u001b[0m\n\u001b[0;32m---> 23\u001b[0;31m \u001b[0mcalculate_percentage_country\u001b[0m\u001b[0;34m(\u001b[0m\u001b[0mdf_bodylang\u001b[0m\u001b[0;34m,\u001b[0m \u001b[0mcountry_total\u001b[0m\u001b[0;34m=\u001b[0m\u001b[0mcountry_total\u001b[0m\u001b[0;34m)\u001b[0m\u001b[0;34m\u001b[0m\u001b[0m\n\u001b[0m\u001b[1;32m     24\u001b[0m \u001b[0;31m# zip(country, num)\u001b[0m\u001b[0;34m\u001b[0m\u001b[0;34m\u001b[0m\u001b[0m\n\u001b[1;32m     25\u001b[0m \u001b[0;31m# .plot(kind='bar')\u001b[0m\u001b[0;34m\u001b[0m\u001b[0;34m\u001b[0m\u001b[0m\n",
      "\u001b[0;32m<ipython-input-156-c4c56fdd51ac>\u001b[0m in \u001b[0;36mcalculate_percentage_country\u001b[0;34m(subject_dataframe, country_total)\u001b[0m\n\u001b[1;32m     49\u001b[0m         \u001b[0mprint\u001b[0m\u001b[0;34m(\u001b[0m\u001b[0mc\u001b[0m\u001b[0;34m,\u001b[0m \u001b[0mn\u001b[0m\u001b[0;34m)\u001b[0m\u001b[0;34m\u001b[0m\u001b[0m\n\u001b[1;32m     50\u001b[0m         \u001b[0mprint\u001b[0m\u001b[0;34m(\u001b[0m\u001b[0mround\u001b[0m\u001b[0;34m(\u001b[0m\u001b[0;34m(\u001b[0m\u001b[0mn\u001b[0m\u001b[0;34m/\u001b[0m\u001b[0mcountry_total\u001b[0m\u001b[0;34m.\u001b[0m\u001b[0mget\u001b[0m\u001b[0;34m(\u001b[0m\u001b[0mc\u001b[0m\u001b[0;34m)\u001b[0m\u001b[0;34m)\u001b[0m\u001b[0;34m*\u001b[0m\u001b[0;36m100\u001b[0m\u001b[0;34m)\u001b[0m\u001b[0;34m)\u001b[0m\u001b[0;34m\u001b[0m\u001b[0m\n\u001b[0;32m---> 51\u001b[0;31m         \u001b[0msubject_dict\u001b[0m\u001b[0;34m.\u001b[0m\u001b[0mappend\u001b[0m\u001b[0;34m(\u001b[0m\u001b[0mc\u001b[0m\u001b[0;34m,\u001b[0m \u001b[0mround\u001b[0m\u001b[0;34m(\u001b[0m\u001b[0;34m(\u001b[0m\u001b[0mn\u001b[0m\u001b[0;34m/\u001b[0m\u001b[0mcountry_total\u001b[0m\u001b[0;34m.\u001b[0m\u001b[0mget\u001b[0m\u001b[0;34m(\u001b[0m\u001b[0mc\u001b[0m\u001b[0;34m)\u001b[0m\u001b[0;34m)\u001b[0m\u001b[0;34m*\u001b[0m\u001b[0;36m100\u001b[0m\u001b[0;34m)\u001b[0m\u001b[0;34m)\u001b[0m\u001b[0;34m\u001b[0m\u001b[0m\n\u001b[0m\u001b[1;32m     52\u001b[0m     \u001b[0;32mreturn\u001b[0m \u001b[0msubject_dict\u001b[0m\u001b[0;34m\u001b[0m\u001b[0m\n\u001b[1;32m     53\u001b[0m \u001b[0;34m\u001b[0m\u001b[0m\n",
      "\u001b[0;31mAttributeError\u001b[0m: 'dict' object has no attribute 'append'"
     ]
    },
    {
     "data": {
      "text/plain": [
       "<Figure size 432x288 with 0 Axes>"
      ]
     },
     "metadata": {},
     "output_type": "display_data"
    }
   ],
   "source": [
    "# Applying the above functions and separating relavant data into df_taboo and df_bodylang\n",
    "df_experiment['taboo_rating'] = df_experiment.apply(taboo_rating, axis=1)\n",
    "df_experiment['body_lang_rating'] = df_experiment.apply(body_lang_rating, axis=1)\n",
    "\n",
    "# Filter based on taboo rating and Score\n",
    "df_taboo = df_experiment[['Country', 'Gender', 'Age', 'taboo_rating', 'Score']]\n",
    "df_taboo = df_taboo.loc[(df_taboo['taboo_rating'] == True) & (df_taboo['Score'] > 3)]\n",
    "\n",
    "# Filter based on bodylang rating and Score\n",
    "df_bodylang = df_experiment[['Country', 'Gender', 'Age', 'body_lang_rating', 'Score3']]\n",
    "df_bodylang = df_bodylang.loc[(df_bodylang['body_lang_rating'] & (df_bodylang['Score3'] > 3))]\n",
    "\n",
    "# Represent the above data Graphically including Indian-subcontinent\n",
    "fig = plt.figure()\n",
    "# props_ax1 = {\n",
    "#     'title' : 'Awareness of Taboo grouped by Country',\n",
    "#     'set_xlabel' : 'Country',\n",
    "#     'ylabel' : 'Score',\n",
    "#     'xticks' : df_taboo.Country.tolist(),\n",
    "# #     'figsize' : (10, 5)\n",
    "# }\n",
    "# df_taboo.plot(x='Country', y='Score', kind='bar')\n",
    "calculate_percentage_country(df_bodylang, country_total=country_total)\n",
    "# zip(country, num)\n",
    "# .plot(kind='bar')\n",
    "# ax1 = fig.add_subplot(2,2,1)\n",
    "# ax1.set(**props_ax1)\n",
    "# taboo_aware"
   ]
  },
  {
   "cell_type": "code",
   "execution_count": 98,
   "metadata": {},
   "outputs": [],
   "source": [
    "# BF, Score(BY)\n",
    "# check how BF and Score relate to each other"
   ]
  },
  {
   "cell_type": "code",
   "execution_count": 99,
   "metadata": {},
   "outputs": [],
   "source": [
    "# separate India from dataframe\n",
    "# compare calc values for them"
   ]
  },
  {
   "cell_type": "code",
   "execution_count": 100,
   "metadata": {},
   "outputs": [
    {
     "data": {
      "text/plain": [
       "[<matplotlib.lines.Line2D at 0x7fa0793eedd8>]"
      ]
     },
     "execution_count": 100,
     "metadata": {},
     "output_type": "execute_result"
    },
    {
     "data": {
      "image/png": "[encoded data removed]",
      "text/plain": [
       "<Figure size 432x288 with 1 Axes>"
      ]
     },
     "metadata": {},
     "output_type": "display_data"
    }
   ],
   "source": [
    "plt.plot(np.arange(10))"
   ]
  },
  {
   "cell_type": "code",
   "execution_count": 101,
   "metadata": {},
   "outputs": [
    {
     "data": {
      "image/png": "[encoded data removed]",
      "text/plain": [
       "<Figure size 432x288 with 3 Axes>"
      ]
     },
     "metadata": {},
     "output_type": "display_data"
    }
   ],
   "source": [
    "fig = plt.figure()\n",
    "ax1 = fig.add_subplot(2,2,1)\n",
    "ax2 = fig.add_subplot(2,2,2)\n",
    "ax3 = fig.add_subplot(2,2,3)"
   ]
  },
  {
   "cell_type": "code",
   "execution_count": 102,
   "metadata": {},
   "outputs": [
    {
     "data": {
      "text/plain": [
       "(array([ 2.,  3.,  1.,  7.,  4.,  6.,  7., 10.,  9.,  7.,  7.,  7.,  6.,\n",
       "         5.,  6.,  7.,  2.,  1.,  0.,  3.]),\n",
       " array([-2.00012126, -1.79571163, -1.59130199, -1.38689236, -1.18248273,\n",
       "        -0.97807309, -0.77366346, -0.56925382, -0.36484419, -0.16043456,\n",
       "         0.04397508,  0.24838471,  0.45279435,  0.65720398,  0.86161361,\n",
       "         1.06602325,  1.27043288,  1.47484252,  1.67925215,  1.88366178,\n",
       "         2.08807142]),\n",
       " <a list of 20 Patch objects>)"
      ]
     },
     "execution_count": 102,
     "metadata": {},
     "output_type": "execute_result"
    },
    {
     "data": {
      "image/png": "[encoded data removed]",
      "text/plain": [
       "<Figure size 432x288 with 4 Axes>"
      ]
     },
     "metadata": {},
     "output_type": "display_data"
    }
   ],
   "source": [
    "fig, axes = plt.subplots(2,2)\n",
    "axes[0,1].hist(np.random.randn(100), bins=20, color='k', alpha=0.3)\n",
    "axes[1,1].hist(np.random.randn(100), bins=20, color='k', alpha=0.3)\n",
    "axes[0,0].hist(np.random.randn(100), bins=20, color='k', alpha=0.3)\n",
    "axes[1,0].hist(np.random.randn(100), bins=20, color='k', alpha=0.3)\n",
    "# fig.subplots_adjust(wspace=2, hspace=2)"
   ]
  },
  {
   "cell_type": "code",
   "execution_count": 103,
   "metadata": {},
   "outputs": [
    {
     "data": {
      "text/plain": [
       "(-2.0, 2.0)"
      ]
     },
     "execution_count": 103,
     "metadata": {},
     "output_type": "execute_result"
    },
    {
     "data": {
      "image/png": "[encoded data removed]",
      "text/plain": [
       "<Figure size 432x288 with 4 Axes>"
      ]
     },
     "metadata": {},
     "output_type": "display_data"
    }
   ],
   "source": [
    "fig, axes = plt.subplots(2, 2, sharex=True, sharey=True)\n",
    "for i in range(2):\n",
    "    for j in range(2):\n",
    "        axes[i, j].hist(np.random.randn(500), bins=50, linestyle='--', color='g', alpha=0.5)\n",
    "plt.subplots_adjust(wspace=0, hspace=0)\n",
    "plt.xlim([-2.0,2.0])"
   ]
  },
  {
   "cell_type": "code",
   "execution_count": 104,
   "metadata": {},
   "outputs": [
    {
     "data": {
      "text/plain": [
       "[Text(0.5,0,'Numbers divided by 10'), Text(0.5,1,'Just another plot')]"
      ]
     },
     "execution_count": 104,
     "metadata": {},
     "output_type": "execute_result"
    },
    {
     "data": {
      "image/png": "[encoded data removed]",
      "text/plain": [
       "<Figure size 432x288 with 1 Axes>"
      ]
     },
     "metadata": {},
     "output_type": "display_data"
    }
   ],
   "source": [
    "fig = plt.figure()\n",
    "ax1 = fig.add_subplot(1,1,1)\n",
    "ax1.plot(np.random.randn(1000).cumsum())\n",
    "ax1.set_xticklabels([0,2,4,6,8,10], rotation='30')\n",
    "props = {\n",
    "    'title': 'Just another plot',\n",
    "    'xlabel': 'Numbers divided by 10'\n",
    "}\n",
    "ax1.set(**props)"
   ]
  },
  {
   "cell_type": "code",
   "execution_count": 105,
   "metadata": {},
   "outputs": [
    {
     "ename": "KeyError",
     "evalue": "'1.1_Which_country_are_you_from?'",
     "output_type": "error",
     "traceback": [
      "\u001b[0;31m---------------------------------------------------------------------------\u001b[0m",
      "\u001b[0;31mKeyError\u001b[0m                                  Traceback (most recent call last)",
      "\u001b[0;32m~/anaconda3/envs/basics/lib/python3.6/site-packages/pandas/core/indexes/base.py\u001b[0m in \u001b[0;36mget_loc\u001b[0;34m(self, key, method, tolerance)\u001b[0m\n\u001b[1;32m   3063\u001b[0m             \u001b[0;32mtry\u001b[0m\u001b[0;34m:\u001b[0m\u001b[0;34m\u001b[0m\u001b[0m\n\u001b[0;32m-> 3064\u001b[0;31m                 \u001b[0;32mreturn\u001b[0m \u001b[0mself\u001b[0m\u001b[0;34m.\u001b[0m\u001b[0m_engine\u001b[0m\u001b[0;34m.\u001b[0m\u001b[0mget_loc\u001b[0m\u001b[0;34m(\u001b[0m\u001b[0mkey\u001b[0m\u001b[0;34m)\u001b[0m\u001b[0;34m\u001b[0m\u001b[0m\n\u001b[0m\u001b[1;32m   3065\u001b[0m             \u001b[0;32mexcept\u001b[0m \u001b[0mKeyError\u001b[0m\u001b[0;34m:\u001b[0m\u001b[0;34m\u001b[0m\u001b[0m\n",
      "\u001b[0;32mpandas/_libs/index.pyx\u001b[0m in \u001b[0;36mpandas._libs.index.IndexEngine.get_loc\u001b[0;34m()\u001b[0m\n",
      "\u001b[0;32mpandas/_libs/index.pyx\u001b[0m in \u001b[0;36mpandas._libs.index.IndexEngine.get_loc\u001b[0;34m()\u001b[0m\n",
      "\u001b[0;32mpandas/_libs/hashtable_class_helper.pxi\u001b[0m in \u001b[0;36mpandas._libs.hashtable.PyObjectHashTable.get_item\u001b[0;34m()\u001b[0m\n",
      "\u001b[0;32mpandas/_libs/hashtable_class_helper.pxi\u001b[0m in \u001b[0;36mpandas._libs.hashtable.PyObjectHashTable.get_item\u001b[0;34m()\u001b[0m\n",
      "\u001b[0;31mKeyError\u001b[0m: '1.1_Which_country_are_you_from?'",
      "\nDuring handling of the above exception, another exception occurred:\n",
      "\u001b[0;31mKeyError\u001b[0m                                  Traceback (most recent call last)",
      "\u001b[0;32m<ipython-input-105-3fe389645374>\u001b[0m in \u001b[0;36m<module>\u001b[0;34m()\u001b[0m\n\u001b[0;32m----> 1\u001b[0;31m \u001b[0mdf_experiment\u001b[0m\u001b[0;34m[\u001b[0m\u001b[0;34m'1.1_Which_country_are_you_from?'\u001b[0m\u001b[0;34m]\u001b[0m\u001b[0;34m.\u001b[0m\u001b[0mvalue_counts\u001b[0m\u001b[0;34m(\u001b[0m\u001b[0;34m)\u001b[0m\u001b[0;34m.\u001b[0m\u001b[0mplot\u001b[0m\u001b[0;34m.\u001b[0m\u001b[0mbarh\u001b[0m\u001b[0;34m(\u001b[0m\u001b[0;34m)\u001b[0m\u001b[0;34m\u001b[0m\u001b[0m\n\u001b[0m",
      "\u001b[0;32m~/anaconda3/envs/basics/lib/python3.6/site-packages/pandas/core/frame.py\u001b[0m in \u001b[0;36m__getitem__\u001b[0;34m(self, key)\u001b[0m\n\u001b[1;32m   2686\u001b[0m             \u001b[0;32mreturn\u001b[0m \u001b[0mself\u001b[0m\u001b[0;34m.\u001b[0m\u001b[0m_getitem_multilevel\u001b[0m\u001b[0;34m(\u001b[0m\u001b[0mkey\u001b[0m\u001b[0;34m)\u001b[0m\u001b[0;34m\u001b[0m\u001b[0m\n\u001b[1;32m   2687\u001b[0m         \u001b[0;32melse\u001b[0m\u001b[0;34m:\u001b[0m\u001b[0;34m\u001b[0m\u001b[0m\n\u001b[0;32m-> 2688\u001b[0;31m             \u001b[0;32mreturn\u001b[0m \u001b[0mself\u001b[0m\u001b[0;34m.\u001b[0m\u001b[0m_getitem_column\u001b[0m\u001b[0;34m(\u001b[0m\u001b[0mkey\u001b[0m\u001b[0;34m)\u001b[0m\u001b[0;34m\u001b[0m\u001b[0m\n\u001b[0m\u001b[1;32m   2689\u001b[0m \u001b[0;34m\u001b[0m\u001b[0m\n\u001b[1;32m   2690\u001b[0m     \u001b[0;32mdef\u001b[0m \u001b[0m_getitem_column\u001b[0m\u001b[0;34m(\u001b[0m\u001b[0mself\u001b[0m\u001b[0;34m,\u001b[0m \u001b[0mkey\u001b[0m\u001b[0;34m)\u001b[0m\u001b[0;34m:\u001b[0m\u001b[0;34m\u001b[0m\u001b[0m\n",
      "\u001b[0;32m~/anaconda3/envs/basics/lib/python3.6/site-packages/pandas/core/frame.py\u001b[0m in \u001b[0;36m_getitem_column\u001b[0;34m(self, key)\u001b[0m\n\u001b[1;32m   2693\u001b[0m         \u001b[0;31m# get column\u001b[0m\u001b[0;34m\u001b[0m\u001b[0;34m\u001b[0m\u001b[0m\n\u001b[1;32m   2694\u001b[0m         \u001b[0;32mif\u001b[0m \u001b[0mself\u001b[0m\u001b[0;34m.\u001b[0m\u001b[0mcolumns\u001b[0m\u001b[0;34m.\u001b[0m\u001b[0mis_unique\u001b[0m\u001b[0;34m:\u001b[0m\u001b[0;34m\u001b[0m\u001b[0m\n\u001b[0;32m-> 2695\u001b[0;31m             \u001b[0;32mreturn\u001b[0m \u001b[0mself\u001b[0m\u001b[0;34m.\u001b[0m\u001b[0m_get_item_cache\u001b[0m\u001b[0;34m(\u001b[0m\u001b[0mkey\u001b[0m\u001b[0;34m)\u001b[0m\u001b[0;34m\u001b[0m\u001b[0m\n\u001b[0m\u001b[1;32m   2696\u001b[0m \u001b[0;34m\u001b[0m\u001b[0m\n\u001b[1;32m   2697\u001b[0m         \u001b[0;31m# duplicate columns & possible reduce dimensionality\u001b[0m\u001b[0;34m\u001b[0m\u001b[0;34m\u001b[0m\u001b[0m\n",
      "\u001b[0;32m~/anaconda3/envs/basics/lib/python3.6/site-packages/pandas/core/generic.py\u001b[0m in \u001b[0;36m_get_item_cache\u001b[0;34m(self, item)\u001b[0m\n\u001b[1;32m   2484\u001b[0m         \u001b[0mres\u001b[0m \u001b[0;34m=\u001b[0m \u001b[0mcache\u001b[0m\u001b[0;34m.\u001b[0m\u001b[0mget\u001b[0m\u001b[0;34m(\u001b[0m\u001b[0mitem\u001b[0m\u001b[0;34m)\u001b[0m\u001b[0;34m\u001b[0m\u001b[0m\n\u001b[1;32m   2485\u001b[0m         \u001b[0;32mif\u001b[0m \u001b[0mres\u001b[0m \u001b[0;32mis\u001b[0m \u001b[0;32mNone\u001b[0m\u001b[0;34m:\u001b[0m\u001b[0;34m\u001b[0m\u001b[0m\n\u001b[0;32m-> 2486\u001b[0;31m             \u001b[0mvalues\u001b[0m \u001b[0;34m=\u001b[0m \u001b[0mself\u001b[0m\u001b[0;34m.\u001b[0m\u001b[0m_data\u001b[0m\u001b[0;34m.\u001b[0m\u001b[0mget\u001b[0m\u001b[0;34m(\u001b[0m\u001b[0mitem\u001b[0m\u001b[0;34m)\u001b[0m\u001b[0;34m\u001b[0m\u001b[0m\n\u001b[0m\u001b[1;32m   2487\u001b[0m             \u001b[0mres\u001b[0m \u001b[0;34m=\u001b[0m \u001b[0mself\u001b[0m\u001b[0;34m.\u001b[0m\u001b[0m_box_item_values\u001b[0m\u001b[0;34m(\u001b[0m\u001b[0mitem\u001b[0m\u001b[0;34m,\u001b[0m \u001b[0mvalues\u001b[0m\u001b[0;34m)\u001b[0m\u001b[0;34m\u001b[0m\u001b[0m\n\u001b[1;32m   2488\u001b[0m             \u001b[0mcache\u001b[0m\u001b[0;34m[\u001b[0m\u001b[0mitem\u001b[0m\u001b[0;34m]\u001b[0m \u001b[0;34m=\u001b[0m \u001b[0mres\u001b[0m\u001b[0;34m\u001b[0m\u001b[0m\n",
      "\u001b[0;32m~/anaconda3/envs/basics/lib/python3.6/site-packages/pandas/core/internals.py\u001b[0m in \u001b[0;36mget\u001b[0;34m(self, item, fastpath)\u001b[0m\n\u001b[1;32m   4113\u001b[0m \u001b[0;34m\u001b[0m\u001b[0m\n\u001b[1;32m   4114\u001b[0m             \u001b[0;32mif\u001b[0m \u001b[0;32mnot\u001b[0m \u001b[0misna\u001b[0m\u001b[0;34m(\u001b[0m\u001b[0mitem\u001b[0m\u001b[0;34m)\u001b[0m\u001b[0;34m:\u001b[0m\u001b[0;34m\u001b[0m\u001b[0m\n\u001b[0;32m-> 4115\u001b[0;31m                 \u001b[0mloc\u001b[0m \u001b[0;34m=\u001b[0m \u001b[0mself\u001b[0m\u001b[0;34m.\u001b[0m\u001b[0mitems\u001b[0m\u001b[0;34m.\u001b[0m\u001b[0mget_loc\u001b[0m\u001b[0;34m(\u001b[0m\u001b[0mitem\u001b[0m\u001b[0;34m)\u001b[0m\u001b[0;34m\u001b[0m\u001b[0m\n\u001b[0m\u001b[1;32m   4116\u001b[0m             \u001b[0;32melse\u001b[0m\u001b[0;34m:\u001b[0m\u001b[0;34m\u001b[0m\u001b[0m\n\u001b[1;32m   4117\u001b[0m                 \u001b[0mindexer\u001b[0m \u001b[0;34m=\u001b[0m \u001b[0mnp\u001b[0m\u001b[0;34m.\u001b[0m\u001b[0marange\u001b[0m\u001b[0;34m(\u001b[0m\u001b[0mlen\u001b[0m\u001b[0;34m(\u001b[0m\u001b[0mself\u001b[0m\u001b[0;34m.\u001b[0m\u001b[0mitems\u001b[0m\u001b[0;34m)\u001b[0m\u001b[0;34m)\u001b[0m\u001b[0;34m[\u001b[0m\u001b[0misna\u001b[0m\u001b[0;34m(\u001b[0m\u001b[0mself\u001b[0m\u001b[0;34m.\u001b[0m\u001b[0mitems\u001b[0m\u001b[0;34m)\u001b[0m\u001b[0;34m]\u001b[0m\u001b[0;34m\u001b[0m\u001b[0m\n",
      "\u001b[0;32m~/anaconda3/envs/basics/lib/python3.6/site-packages/pandas/core/indexes/base.py\u001b[0m in \u001b[0;36mget_loc\u001b[0;34m(self, key, method, tolerance)\u001b[0m\n\u001b[1;32m   3064\u001b[0m                 \u001b[0;32mreturn\u001b[0m \u001b[0mself\u001b[0m\u001b[0;34m.\u001b[0m\u001b[0m_engine\u001b[0m\u001b[0;34m.\u001b[0m\u001b[0mget_loc\u001b[0m\u001b[0;34m(\u001b[0m\u001b[0mkey\u001b[0m\u001b[0;34m)\u001b[0m\u001b[0;34m\u001b[0m\u001b[0m\n\u001b[1;32m   3065\u001b[0m             \u001b[0;32mexcept\u001b[0m \u001b[0mKeyError\u001b[0m\u001b[0;34m:\u001b[0m\u001b[0;34m\u001b[0m\u001b[0m\n\u001b[0;32m-> 3066\u001b[0;31m                 \u001b[0;32mreturn\u001b[0m \u001b[0mself\u001b[0m\u001b[0;34m.\u001b[0m\u001b[0m_engine\u001b[0m\u001b[0;34m.\u001b[0m\u001b[0mget_loc\u001b[0m\u001b[0;34m(\u001b[0m\u001b[0mself\u001b[0m\u001b[0;34m.\u001b[0m\u001b[0m_maybe_cast_indexer\u001b[0m\u001b[0;34m(\u001b[0m\u001b[0mkey\u001b[0m\u001b[0;34m)\u001b[0m\u001b[0;34m)\u001b[0m\u001b[0;34m\u001b[0m\u001b[0m\n\u001b[0m\u001b[1;32m   3067\u001b[0m \u001b[0;34m\u001b[0m\u001b[0m\n\u001b[1;32m   3068\u001b[0m         \u001b[0mindexer\u001b[0m \u001b[0;34m=\u001b[0m \u001b[0mself\u001b[0m\u001b[0;34m.\u001b[0m\u001b[0mget_indexer\u001b[0m\u001b[0;34m(\u001b[0m\u001b[0;34m[\u001b[0m\u001b[0mkey\u001b[0m\u001b[0;34m]\u001b[0m\u001b[0;34m,\u001b[0m \u001b[0mmethod\u001b[0m\u001b[0;34m=\u001b[0m\u001b[0mmethod\u001b[0m\u001b[0;34m,\u001b[0m \u001b[0mtolerance\u001b[0m\u001b[0;34m=\u001b[0m\u001b[0mtolerance\u001b[0m\u001b[0;34m)\u001b[0m\u001b[0;34m\u001b[0m\u001b[0m\n",
      "\u001b[0;32mpandas/_libs/index.pyx\u001b[0m in \u001b[0;36mpandas._libs.index.IndexEngine.get_loc\u001b[0;34m()\u001b[0m\n",
      "\u001b[0;32mpandas/_libs/index.pyx\u001b[0m in \u001b[0;36mpandas._libs.index.IndexEngine.get_loc\u001b[0;34m()\u001b[0m\n",
      "\u001b[0;32mpandas/_libs/hashtable_class_helper.pxi\u001b[0m in \u001b[0;36mpandas._libs.hashtable.PyObjectHashTable.get_item\u001b[0;34m()\u001b[0m\n",
      "\u001b[0;32mpandas/_libs/hashtable_class_helper.pxi\u001b[0m in \u001b[0;36mpandas._libs.hashtable.PyObjectHashTable.get_item\u001b[0;34m()\u001b[0m\n",
      "\u001b[0;31mKeyError\u001b[0m: '1.1_Which_country_are_you_from?'"
     ]
    }
   ],
   "source": [
    "df_experiment['1.1_Which_country_are_you_from?'].value_counts().plot.barh()"
   ]
  },
  {
   "cell_type": "code",
   "execution_count": null,
   "metadata": {},
   "outputs": [],
   "source": [
    "df_experiment['Age'].plot.hist()"
   ]
  },
  {
   "cell_type": "code",
   "execution_count": null,
   "metadata": {},
   "outputs": [],
   "source": [
    "df_experiment['Age'].plot.density()"
   ]
  },
  {
   "cell_type": "code",
   "execution_count": null,
   "metadata": {},
   "outputs": [],
   "source": [
    "sns.distplot(df_experiment[['Age', '3._How_long_have_you_lived_in_your_home_country?(years)']], color=['g','k'])\n"
   ]
  },
  {
   "cell_type": "code",
   "execution_count": null,
   "metadata": {},
   "outputs": [],
   "source": [
    "sns.regplot('Age', 'Calc2', data=df_experiment)"
   ]
  },
  {
   "cell_type": "code",
   "execution_count": null,
   "metadata": {},
   "outputs": [],
   "source": []
  }
 ],
 "metadata": {
  "kernelspec": {
   "display_name": "Python 3",
   "language": "python",
   "name": "python3"
  },
  "language_info": {
   "codemirror_mode": {
    "name": "ipython",
    "version": 3
   },
   "file_extension": ".py",
   "mimetype": "text/x-python",
   "name": "python",
   "nbconvert_exporter": "python",
   "pygments_lexer": "ipython3",
   "version": "3.6.5"
  }
 },
 "nbformat": 4,
 "nbformat_minor": 2
}
