{
 "cells": [
  {
   "cell_type": "markdown",
   "metadata": {},
   "source": [
    "## Yanai Analysis"
   ]
  },
  {
   "cell_type": "code",
   "execution_count": 4,
   "metadata": {},
   "outputs": [],
   "source": [
    "import pandas as pd\n",
    "import numpy as np\n",
    "import matplotlib.pyplot as plt\n",
    "import seaborn as sns"
   ]
  },
  {
   "cell_type": "code",
   "execution_count": 5,
   "metadata": {},
   "outputs": [],
   "source": [
    "# Read the data\n",
    "experiment_file_path = 'experiment-new.csv'\n",
    "df_experiment = pd.read_csv(experiment_file_path)"
   ]
  },
  {
   "cell_type": "code",
   "execution_count": 6,
   "metadata": {},
   "outputs": [],
   "source": [
    "# Clean the data\n",
    "df_experiment.columns = [c.replace(' ', '_') for c in df_experiment.columns]"
   ]
  },
  {
   "cell_type": "code",
   "execution_count": 7,
   "metadata": {},
   "outputs": [
    {
     "data": {
      "text/plain": [
       "Index(['1.1_Which_country_are_you_from?', '1.2_Please_choose_your_gender',\n",
       "       '2._How_old_are_you?',\n",
       "       '3._How_long_have_you_lived_in_your_home_country?(years)', 'Age',\n",
       "       'B4._Indian_culture_-_Can_you_estimate_the_importance_of_taboos_in_the_Indian_culture_?_Please_rate_the_value_of_each_row_[Religion_(I._e_critisize_religion)]',\n",
       "       'A1._Indian_culture_-_Can_you_estimate_the_importance_of_the_taboos_in_the_Indian_culture_?_Please_rate_the_value_of_each_row_[Religion_(I._e_critisize_religion)]',\n",
       "       'Calc',\n",
       "       'B4._Indian_culture_-_Can_you_estimate_the_importance_of_taboos_in_the_Indian_culture_?_Please_rate_the_value_of_each_row_[Relationships_between_men_and_a_women(I.e_unmarried_couple)]',\n",
       "       'A1._Indian_culture_-_Can_you_estimate_the_importance_of_the_taboos_in_the_Indian_culture_?_Please_rate_the_value_of_each_row_[Relationships_between_men_and_a_women(I.e_unmarried_couple)]',\n",
       "       'Calc2',\n",
       "       'B4._Indian_culture_-_Can_you_estimate_the_importance_of_taboos_in_the_Indian_culture_?_Please_rate_the_value_of_each_row_[Food_habits_(I._e__eating_cows,_drinking_alchohol_and_so_on)]',\n",
       "       'A1._Indian_culture_-_Can_you_estimate_the_importance_of_the_taboos_in_the_Indian_culture_?_Please_rate_the_value_of_each_row_[Food_habits_(I._e__port_meat_or_others,_drinking_alchohol_and_so_on)]',\n",
       "       'Calc3',\n",
       "       'B4._Indian_culture_-_Can_you_estimate_the_importance_of_taboos_in_the_Indian_culture_?_Please_rate_the_value_of_each_row_[Physical_contact_with_the_opposide_gender(I._e_touching_other_gender,)]',\n",
       "       'A1._Indian_culture_-_Can_you_estimate_the_importance_of_the_taboos_in_the_Indian_culture_?_Please_rate_the_value_of_each_row_[Physical_contact_with_the_opposide_gender(I._e_touching_other_gender,__looking_to_women_with_uncovered_head)]',\n",
       "       'Calc4',\n",
       "       'B4._Indian_culture_-_Can_you_estimate_the_importance_of_taboos_in_the_Indian_culture_?_Please_rate_the_value_of_each_row_[Avoid_some_kind_of_humour]',\n",
       "       'A1._Indian_culture_-_Can_you_estimate_the_importance_of_the_taboos_in_the_Indian_culture_?_Please_rate_the_value_of_each_row_[Avoid_some_kind_of_humour]',\n",
       "       'Calc5',\n",
       "       'B4._Indian_culture_-_Can_you_estimate_the_importance_of_taboos_in_the_Indian_culture_?_Please_rate_the_value_of_each_row_[Avoid_negative_comments_or_criticisms_about_a_person’s_ability,_appearance_or_attributes]',\n",
       "       'A1._Indian_culture_-_Can_you_estimate_the_importance_of_the_taboos_in_the_Indian_culture_?_Please_rate_the_value_of_each_row_[Avoid_negative_comments_or_criticisms_about_a_person’s_ability,_appearance_or_attributes]',\n",
       "       'Calc6',\n",
       "       'B4._Indian_culture_-_Can_you_estimate_the_importance_of_taboos_in_the_Indian_culture_?_Please_rate_the_value_of_each_row_[embarrass_a_person_in_public]',\n",
       "       'A1._Indian_culture_-_Can_you_estimate_the_importance_of_the_taboos_in_the_Indian_culture_?_Please_rate_the_value_of_each_row_[embarrass_a_person_in_public]',\n",
       "       'Calc7',\n",
       "       'B4._Indian_culture_-_Can_you_estimate_the_importance_of_taboos_in_the_Indian_culture_?_Please_rate_the_value_of_each_row_[Not_to_ask_too_many_personal_questions_]',\n",
       "       'A1._Indian_culture_-_Can_you_estimate_the_importance_of_the_taboos_in_the_Indian_culture_?_Please_rate_the_value_of_each_row_[Not_to_ask_too_many_personal_question]',\n",
       "       'Calc8',\n",
       "       'B5._Indian_culture_-_How_likely_is_it_for_a_person_from_Indian_culture_to_use_gestures(body_language)_to_describe_the_fol2ing?_Please_rate_the_value_of_each_row_[Showing_you_are_angry,_upset_or_annoyed_(I._e_turn_your_back_to_someone,_grab_your_hair_)]',\n",
       "       'A2._Indian_culture_-_How_likely_is_it_for_a_person_from_Indian_culture_to_use_gestures(body_language)_to_describe_the_fol2ing?_Please_rate_the_value_of_each_row_[Showing_you_are_angry,_upset_or_annoyed_(I._e_turn_your_back_to_someone,_grab_your_hair_)]',\n",
       "       'Calc9',\n",
       "       'B5._Indian_culture_-_How_likely_is_it_for_a_person_from_Indian_culture_to_use_gestures(body_language)_to_describe_the_fol2ing?_Please_rate_the_value_of_each_row_[Showing_you_thank_people_(I._e_Hug_a_person_with_both_hands,__hold_the_hand_of_someone_with',\n",
       "       'A2._Indian_culture_-_How_likely_is_it_for_a_person_from_Indian_culture_to_use_gestures(body_language)_to_describe_the_fol2ing?_Please_rate_the_value_of_each_row_[Showing_you_thank_people_(I._e_Hug_a_person_with_both_hands,__hold_the_hand_of_someone_with',\n",
       "       'Calc10',\n",
       "       'B5._Indian_culture_-_How_likely_is_it_for_a_person_from_Indian_culture_to_use_gestures(body_language)_to_describe_the_fol2ing?_Please_rate_the_value_of_each_row_[Showing_you_disagree_with_someone_(I._e_turn_the_thumb_down,_hold_your_fist_in_front_of_som',\n",
       "       'A2._Indian_culture_-_How_likely_is_it_for_a_person_from_Indian_culture_to_use_gestures(body_language)_to_describe_the_fol2ing?_Please_rate_the_value_of_each_row_[Showing_you_disagree_with_someone_(I._e_turn_the_thumb_down,_hold_your_fist_in_front_of_som',\n",
       "       'Calc11',\n",
       "       'B5._Indian_culture_-_How_likely_is_it_for_a_person_from_Indian_culture_to_use_gestures(body_language)_to_describe_the_fol2ing?_Please_rate_the_value_of_each_row_[Showing_you_agree_with_someone_(I._e_nod_with_your_head,_smile_to_someone_)]',\n",
       "       'A2._Indian_culture_-_How_likely_is_it_for_a_person_from_Indian_culture_to_use_gestures(body_language)_to_describe_the_fol2ing?_Please_rate_the_value_of_each_row_[Showing_you_agree_with_someone_(I._e_nod_with_your_head,_smile_to_someone_)]',\n",
       "       'Calc12',\n",
       "       'B5._Indian_culture_-_How_likely_is_it_for_a_person_from_Indian_culture_to_use_gestures(body_language)_to_describe_the_fol2ing?_Please_rate_the_value_of_each_row_[Showing_your_surprise_(I._e_move_your_eyebrows_upwards,_open_your_mouth_widely)]',\n",
       "       'A2._Indian_culture_-_How_likely_is_it_for_a_person_from_Indian_culture_to_use_gestures(body_language)_to_describe_the_fol2ing?_Please_rate_the_value_of_each_row_[Showing_your_surprise_(I._e_move_your_eyebrows_upwards,_open_your_mouth_widely)]',\n",
       "       'Calc13',\n",
       "       'B5._Indian_culture_-_How_likely_is_it_for_a_person_from_Indian_culture_to_use_gestures(body_language)_to_describe_the_fol2ing?_Please_rate_the_value_of_each_row_[Express_themselves_with_the_head_movement]',\n",
       "       'A2._Indian_culture_-_How_likely_is_it_for_a_person_from_Indian_culture_to_use_gestures(body_language)_to_describe_the_fol2ing?_Please_rate_the_value_of_each_row_[Express_themselves_with_the_head_movement]',\n",
       "       'Calc14',\n",
       "       '6._Please_rate_the_fol2ing_questions_according_to_your_opion__[Have_you_stayed_for_a_long_duration_outside_your_home_country_(5=_long,_1=_short)]',\n",
       "       '6._Please_rate_the_fol2ing_questions_according_to_your_opion__[Do_you_see_yourself_working_and_communicating_well_in_an_international_working_environment?_]',\n",
       "       '6._Please_rate_the_fol2ing_questions_according_to_your_opion__[Do_you_think_it_is_important_to_learn_the_cultural_background_of_co-workers_to_achieve_better_communication_]',\n",
       "       '6._Please_rate_the_fol2ing_questions_according_to_your_opion__[Learning_the_intentions_of_a_direct/indirect_communication_based_on_the_culture_background_helps_in_an_international_team_work]',\n",
       "       '6._Please_rate_the_fol2ing_questions_according_to_your_opion__[Cultural_background_influence_the_teamwork]',\n",
       "       '6._Please_rate_the_fol2ing_questions_according_to_your_opion__[how_do_you_think_the_communication_in_the_Indian_culture?(Direct_=_5,_Indirect=_verly_2)]',\n",
       "       '6._Please_rate_the_fol2ing_questions_according_to_your_opion__[Do_you_that_support_the_statement_that_cultural_taboos/body_lanugage_lead_to_different_message_interpretation?_(5=_strongly,_1=_not_really)_]',\n",
       "       '6._Please_rate_the_following_questions_according_to_your_opion__[Do_you_think_that_the_environment_influences_our_behaviour_in_terms_of_body_language/taboos(Work,_university,_leisure_time)_]',\n",
       "       '7._How_would_you_approach_an_international_student_with_a_language_barrier?',\n",
       "       'Testing',\n",
       "       '1._What_are_the_cultural_differences_between_your_culture_and_the_Indian_culture?_Please_rate_the_value_of_each_row_(if_you_are_Indian,_What_are_the_cultural_differences_between_your_culture_and_the_one_you_were_exposed_to)_[I_was_exposed_to_new_taboos_an',\n",
       "       '1._What_are_the_cultural_differences_between_your_culture_and_the_Indian_culture?_Please_rate_the_value_of_each_row_(if_you_are_Indian,_What_are_the_cultural_differences_between_your_culture_and_the_one_you_were_exposed_to)_[How_useful_was_the_questionare',\n",
       "       '1._What_are_the_cultural_differences_between_your_culture_and_the_Indian_culture?_Please_rate_the_value_of_each_row_(if_you_are_Indian,_What_are_the_cultural_differences_between_your_culture_and_the_one_you_were_exposed_to)_[The_values_of_my_culture_are_s',\n",
       "       '2._Does_the_exposure_to_new_cultural_body_language_and_taboos_help_you_change_your_attitude_towards_the_people_from_the_culture_you_examined?_Please_rate_the_value_of_each_row_[The_knowledge_I_gain_will_help_me_be_more_sensitive_to_deal_with_students_from',\n",
       "       '2._Does_the_exposure_to_new_cultural_body_language_and_taboos_help_you_change_your_attitude_towards_the_people_from_the_culture_you_examined?_Please_rate_the_value_of_each_row_[The_situations_presented_to_me_will_help_me__communicate_better_and__corporate',\n",
       "       '2._Does_the_exposure_to_new_cultural_body_language_and_taboos_help_you_change_your_attitude_towards_the_people_from_the_culture_you_examined?_Please_rate_the_value_of_each_row_[It_has_contributed_to_my_understanding,_to_learn_about_differences_between_my_',\n",
       "       '3._What_are_the_differences_or_similarities_between_your_current_residing_country_and_India?_Please_rate_the_value_of_each_row_[The_taboos_examined_are_similar_to_the_taboos_in_my_culture]',\n",
       "       '3._What_are_the_differences_or_similarities_between_your_current_residing_country_and_India?_Please_rate_the_value_of_each_row_[The_body_language_I_examined_differ_much_from_the_body_language_I_know]',\n",
       "       '3._What_are_the_differences_or_similarities_between_your_current_residing_country_and_India?_Please_rate_the_value_of_each_row_[The_body_language_in_the_culture_examined_is_more_expressive_than_in_my_own_culture]',\n",
       "       '3._What_are_the_differences_or_similarities_between_your_current_residing_country_and_India?_Please_rate_the_value_of_each_row_[There_are_4er_number_of_taboos_than_I_know_in_my_culture_]',\n",
       "       '4._What_can_be_improved_according_to_your_point_of_view_to_al2_a_better_interaction_with_foreign_students?(One/more_or_optional_answers)',\n",
       "       '5._What_can_a_wrong_interpretation_of_the_body_language_lead_to?_Please_rate_the_value_of_each_row_[Misunderstanding]',\n",
       "       '5._What_can_a_wrong_interpretation_of_the_body_language_lead_to?_Please_rate_the_value_of_each_row_[frustration]',\n",
       "       '5._What_can_a_wrong_interpretation_of_the_body_language_lead_to?_Please_rate_the_value_of_each_row_[fear]',\n",
       "       '5._What_can_a_wrong_interpretation_of_the_body_language_lead_to?_Please_rate_the_value_of_each_row_[Do_not_know_the_aim_or_will_of_a_person]',\n",
       "       '6._Were_you_able_to_learn_something_about_cultural_taboos_that_you_didn't_know_before,_what_for_example?',\n",
       "       '7._Were_you_able_to_learn_something_about_body_language_that_you_didn't_know_before,_what_for_example?',\n",
       "       'Column15', 'Timestamp', 'Score',\n",
       "       '1._Indian_student_is_asked_to_present_a_report_in_class,_nevertheless_he_is_unprepared._What_could_the_reaction_of_the_Indian_student_be?',\n",
       "       '2._Two_persons,_one_of_them_Indian_meet_each_other_for_the_first_time._What_are_the_conversation_topics_that_should_be_considered_to_be_avoided?',\n",
       "       '3._Why_Indians_do_not_discuss_any_issues_about_religion?',\n",
       "       '4._What_might_an_Indian_think_about_someone_criticizing_the_Indian_family_structural_concept_?',\n",
       "       '5._How_do_Indians_feel_when_someone_criticizes_their_country,_their_rituals,_politics_or_Indian_habits?',\n",
       "       '6._Kashmir_area_is_a_Pakistani-_Indian_conflict_zone._Is_it_appropriate_to_talk_about_it_with_an_Indian?',\n",
       "       '7._What_is_a_part_of_the_working_environment_and_also_has_influence_on_the_working_structure_at_the_university?',\n",
       "       'You_now_completed_3/5_pages._Please_continue_to_page_4/5',\n",
       "       'Body_language', 'Timestamp2', 'Score3',\n",
       "       '1._Is_it_common_to_handshake_women_when_presenting_yourself_in_the_Indian_culture?',\n",
       "       '2._What_does_this_head_shake_in_the_picture_means?',\n",
       "       '3._What_is_a_general_manner_in_a_group_conversation?',\n",
       "       '4._Eye_contact_–_In_a_meeting_between_a_student_and_a_teacher,_both_keep_permanent_eye_contact._What_does_that_mean_in_Indian_culture?_',\n",
       "       '5._Communication_–_How_does_an_Indian_converse_with_a_foreign_person?',\n",
       "       '6._A_supervisor_explains_to_an_Indian_student_an_unclear_topic._Then_he_asks_if_the_topic_is_now_clear?_',\n",
       "       '7._A_student_wants_to_point_another_student_out._What_is_the_common_way_to_do_that?',\n",
       "       'You_now_completed_4/5_pages._Please_continue_to_page_5/5',\n",
       "       'You_now_completed_3/5_pages._Please_continue_to_page_4/5.1'],\n",
       "      dtype='object')"
      ]
     },
     "execution_count": 7,
     "metadata": {},
     "output_type": "execute_result"
    }
   ],
   "source": [
    "df_experiment.columns"
   ]
  },
  {
   "cell_type": "code",
   "execution_count": 8,
   "metadata": {
    "scrolled": true
   },
   "outputs": [
    {
     "data": {
      "text/html": [
       "<div>\n",
       "<style scoped>\n",
       "    .dataframe tbody tr th:only-of-type {\n",
       "        vertical-align: middle;\n",
       "    }\n",
       "\n",
       "    .dataframe tbody tr th {\n",
       "        vertical-align: top;\n",
       "    }\n",
       "\n",
       "    .dataframe thead th {\n",
       "        text-align: right;\n",
       "    }\n",
       "</style>\n",
       "<table border=\"1\" class=\"dataframe\">\n",
       "  <thead>\n",
       "    <tr style=\"text-align: right;\">\n",
       "      <th></th>\n",
       "      <th>1.1_Which_country_are_you_from?</th>\n",
       "      <th>1.2_Please_choose_your_gender</th>\n",
       "      <th>2._How_old_are_you?</th>\n",
       "      <th>3._How_long_have_you_lived_in_your_home_country?(years)</th>\n",
       "      <th>Age</th>\n",
       "      <th>B4._Indian_culture_-_Can_you_estimate_the_importance_of_taboos_in_the_Indian_culture_?_Please_rate_the_value_of_each_row_[Religion_(I._e_critisize_religion)]</th>\n",
       "      <th>A1._Indian_culture_-_Can_you_estimate_the_importance_of_the_taboos_in_the_Indian_culture_?_Please_rate_the_value_of_each_row_[Religion_(I._e_critisize_religion)]</th>\n",
       "      <th>Calc</th>\n",
       "      <th>B4._Indian_culture_-_Can_you_estimate_the_importance_of_taboos_in_the_Indian_culture_?_Please_rate_the_value_of_each_row_[Relationships_between_men_and_a_women(I.e_unmarried_couple)]</th>\n",
       "      <th>A1._Indian_culture_-_Can_you_estimate_the_importance_of_the_taboos_in_the_Indian_culture_?_Please_rate_the_value_of_each_row_[Relationships_between_men_and_a_women(I.e_unmarried_couple)]</th>\n",
       "      <th>...</th>\n",
       "      <th>Score3</th>\n",
       "      <th>1._Is_it_common_to_handshake_women_when_presenting_yourself_in_the_Indian_culture?</th>\n",
       "      <th>2._What_does_this_head_shake_in_the_picture_means?</th>\n",
       "      <th>3._What_is_a_general_manner_in_a_group_conversation?</th>\n",
       "      <th>4._Eye_contact_–_In_a_meeting_between_a_student_and_a_teacher,_both_keep_permanent_eye_contact._What_does_that_mean_in_Indian_culture?_</th>\n",
       "      <th>5._Communication_–_How_does_an_Indian_converse_with_a_foreign_person?</th>\n",
       "      <th>6._A_supervisor_explains_to_an_Indian_student_an_unclear_topic._Then_he_asks_if_the_topic_is_now_clear?_</th>\n",
       "      <th>7._A_student_wants_to_point_another_student_out._What_is_the_common_way_to_do_that?</th>\n",
       "      <th>You_now_completed_4/5_pages._Please_continue_to_page_5/5</th>\n",
       "      <th>You_now_completed_3/5_pages._Please_continue_to_page_4/5.1</th>\n",
       "    </tr>\n",
       "  </thead>\n",
       "  <tbody>\n",
       "    <tr>\n",
       "      <th>0</th>\n",
       "      <td>Srilanka</td>\n",
       "      <td>Male</td>\n",
       "      <td>27-30</td>\n",
       "      <td>6</td>\n",
       "      <td>30</td>\n",
       "      <td>3</td>\n",
       "      <td>4</td>\n",
       "      <td>1</td>\n",
       "      <td>3</td>\n",
       "      <td>4</td>\n",
       "      <td>...</td>\n",
       "      <td>4 / 7</td>\n",
       "      <td>Shaking hands with women  is not a common cult...</td>\n",
       "      <td>To confirm the other person you agree with him...</td>\n",
       "      <td>They will laugh in a friendly way and will wai...</td>\n",
       "      <td>A short eye contact is possible, a teacher is ...</td>\n",
       "      <td>Indirect communication, they will answer quest...</td>\n",
       "      <td>He will answer the supervisor’s immediate for ...</td>\n",
       "      <td>Point out with your chin since pointing finger...</td>\n",
       "      <td>Continue</td>\n",
       "      <td>Continue</td>\n",
       "    </tr>\n",
       "    <tr>\n",
       "      <th>1</th>\n",
       "      <td>India</td>\n",
       "      <td>Female</td>\n",
       "      <td>23-26</td>\n",
       "      <td>24</td>\n",
       "      <td>25</td>\n",
       "      <td>4</td>\n",
       "      <td>4</td>\n",
       "      <td>0</td>\n",
       "      <td>4</td>\n",
       "      <td>4</td>\n",
       "      <td>...</td>\n",
       "      <td>3 / 7</td>\n",
       "      <td>Shaking hands with women  is not a common cult...</td>\n",
       "      <td>To tell the other person “lets go”</td>\n",
       "      <td>They do not mind to keep non politically corre...</td>\n",
       "      <td>Eye contact is necessary to maintain a better ...</td>\n",
       "      <td>Direct communication, people will tell you wha...</td>\n",
       "      <td>Some students may use their body to indicate t...</td>\n",
       "      <td>Point out with your chin since pointing finger...</td>\n",
       "      <td>Continue</td>\n",
       "      <td>Continue</td>\n",
       "    </tr>\n",
       "    <tr>\n",
       "      <th>2</th>\n",
       "      <td>Tunesia</td>\n",
       "      <td>Male</td>\n",
       "      <td>over 30</td>\n",
       "      <td>20</td>\n",
       "      <td>32</td>\n",
       "      <td>2</td>\n",
       "      <td>3</td>\n",
       "      <td>1</td>\n",
       "      <td>3</td>\n",
       "      <td>2</td>\n",
       "      <td>...</td>\n",
       "      <td>3 / 7</td>\n",
       "      <td>There are no religious restrictions and in the...</td>\n",
       "      <td>To confirm the other person you agree with him...</td>\n",
       "      <td>People express their opinion after another per...</td>\n",
       "      <td>Eye contact is necessary to maintain a better ...</td>\n",
       "      <td>Indirect communication, but still a straightfo...</td>\n",
       "      <td>He will answer the supervisor’s immediate for ...</td>\n",
       "      <td>Whistle in the ears the name of the other person</td>\n",
       "      <td>Continue</td>\n",
       "      <td>Continue</td>\n",
       "    </tr>\n",
       "    <tr>\n",
       "      <th>3</th>\n",
       "      <td>China</td>\n",
       "      <td>Male</td>\n",
       "      <td>27-30</td>\n",
       "      <td>23</td>\n",
       "      <td>28</td>\n",
       "      <td>4</td>\n",
       "      <td>4</td>\n",
       "      <td>0</td>\n",
       "      <td>5</td>\n",
       "      <td>4</td>\n",
       "      <td>...</td>\n",
       "      <td>3 / 7</td>\n",
       "      <td>There are no religious restrictions and in the...</td>\n",
       "      <td>To confirm the other person you agree with him...</td>\n",
       "      <td>They will laugh in a friendly way and will wai...</td>\n",
       "      <td>Eye contact is necessary to maintain a better ...</td>\n",
       "      <td>Indirect communication, they will answer quest...</td>\n",
       "      <td>Some students may use their body to indicate t...</td>\n",
       "      <td>Whistle in the ears the name of the other person</td>\n",
       "      <td>Continue</td>\n",
       "      <td>Continue</td>\n",
       "    </tr>\n",
       "    <tr>\n",
       "      <th>4</th>\n",
       "      <td>Brasil</td>\n",
       "      <td>Male</td>\n",
       "      <td>over 30</td>\n",
       "      <td>4</td>\n",
       "      <td>38</td>\n",
       "      <td>5</td>\n",
       "      <td>5</td>\n",
       "      <td>0</td>\n",
       "      <td>5</td>\n",
       "      <td>4</td>\n",
       "      <td>...</td>\n",
       "      <td>4 / 7</td>\n",
       "      <td>The society encourage women to handshake in or...</td>\n",
       "      <td>To confirm the other person you agree with him...</td>\n",
       "      <td>People express their opinion after another per...</td>\n",
       "      <td>A short eye contact is possible, a teacher is ...</td>\n",
       "      <td>Indirect communication, they will answer quest...</td>\n",
       "      <td>Some students may use their body to indicate t...</td>\n",
       "      <td>Point out with your chin since pointing finger...</td>\n",
       "      <td>Continue</td>\n",
       "      <td>Continue</td>\n",
       "    </tr>\n",
       "  </tbody>\n",
       "</table>\n",
       "<p>5 rows × 97 columns</p>\n",
       "</div>"
      ],
      "text/plain": [
       "  1.1_Which_country_are_you_from? 1.2_Please_choose_your_gender  \\\n",
       "0                        Srilanka                          Male   \n",
       "1                           India                        Female   \n",
       "2                         Tunesia                          Male   \n",
       "3                           China                          Male   \n",
       "4                          Brasil                          Male   \n",
       "\n",
       "  2._How_old_are_you?  \\\n",
       "0               27-30   \n",
       "1               23-26   \n",
       "2             over 30   \n",
       "3               27-30   \n",
       "4             over 30   \n",
       "\n",
       "   3._How_long_have_you_lived_in_your_home_country?(years)  Age  \\\n",
       "0                                                  6         30   \n",
       "1                                                 24         25   \n",
       "2                                                 20         32   \n",
       "3                                                 23         28   \n",
       "4                                                  4         38   \n",
       "\n",
       "   B4._Indian_culture_-_Can_you_estimate_the_importance_of_taboos_in_the_Indian_culture_?_Please_rate_the_value_of_each_row_[Religion_(I._e_critisize_religion)]  \\\n",
       "0                                                  3                                                                                                               \n",
       "1                                                  4                                                                                                               \n",
       "2                                                  2                                                                                                               \n",
       "3                                                  4                                                                                                               \n",
       "4                                                  5                                                                                                               \n",
       "\n",
       "   A1._Indian_culture_-_Can_you_estimate_the_importance_of_the_taboos_in_the_Indian_culture_?_Please_rate_the_value_of_each_row_[Religion_(I._e_critisize_religion)]  \\\n",
       "0                                                  4                                                                                                                   \n",
       "1                                                  4                                                                                                                   \n",
       "2                                                  3                                                                                                                   \n",
       "3                                                  4                                                                                                                   \n",
       "4                                                  5                                                                                                                   \n",
       "\n",
       "   Calc  \\\n",
       "0     1   \n",
       "1     0   \n",
       "2     1   \n",
       "3     0   \n",
       "4     0   \n",
       "\n",
       "   B4._Indian_culture_-_Can_you_estimate_the_importance_of_taboos_in_the_Indian_culture_?_Please_rate_the_value_of_each_row_[Relationships_between_men_and_a_women(I.e_unmarried_couple)]  \\\n",
       "0                                                  3                                                                                                                                        \n",
       "1                                                  4                                                                                                                                        \n",
       "2                                                  3                                                                                                                                        \n",
       "3                                                  5                                                                                                                                        \n",
       "4                                                  5                                                                                                                                        \n",
       "\n",
       "   A1._Indian_culture_-_Can_you_estimate_the_importance_of_the_taboos_in_the_Indian_culture_?_Please_rate_the_value_of_each_row_[Relationships_between_men_and_a_women(I.e_unmarried_couple)]  \\\n",
       "0                                                  4                                                                                                                                            \n",
       "1                                                  4                                                                                                                                            \n",
       "2                                                  2                                                                                                                                            \n",
       "3                                                  4                                                                                                                                            \n",
       "4                                                  4                                                                                                                                            \n",
       "\n",
       "                              ...                              Score3  \\\n",
       "0                             ...                               4 / 7   \n",
       "1                             ...                               3 / 7   \n",
       "2                             ...                               3 / 7   \n",
       "3                             ...                               3 / 7   \n",
       "4                             ...                               4 / 7   \n",
       "\n",
       "   1._Is_it_common_to_handshake_women_when_presenting_yourself_in_the_Indian_culture?  \\\n",
       "0  Shaking hands with women  is not a common cult...                                    \n",
       "1  Shaking hands with women  is not a common cult...                                    \n",
       "2  There are no religious restrictions and in the...                                    \n",
       "3  There are no religious restrictions and in the...                                    \n",
       "4  The society encourage women to handshake in or...                                    \n",
       "\n",
       "   2._What_does_this_head_shake_in_the_picture_means?  \\\n",
       "0  To confirm the other person you agree with him...    \n",
       "1                 To tell the other person “lets go”    \n",
       "2  To confirm the other person you agree with him...    \n",
       "3  To confirm the other person you agree with him...    \n",
       "4  To confirm the other person you agree with him...    \n",
       "\n",
       "   3._What_is_a_general_manner_in_a_group_conversation?  \\\n",
       "0  They will laugh in a friendly way and will wai...      \n",
       "1  They do not mind to keep non politically corre...      \n",
       "2  People express their opinion after another per...      \n",
       "3  They will laugh in a friendly way and will wai...      \n",
       "4  People express their opinion after another per...      \n",
       "\n",
       "   4._Eye_contact_–_In_a_meeting_between_a_student_and_a_teacher,_both_keep_permanent_eye_contact._What_does_that_mean_in_Indian_culture?_  \\\n",
       "0  A short eye contact is possible, a teacher is ...                                                                                         \n",
       "1  Eye contact is necessary to maintain a better ...                                                                                         \n",
       "2  Eye contact is necessary to maintain a better ...                                                                                         \n",
       "3  Eye contact is necessary to maintain a better ...                                                                                         \n",
       "4  A short eye contact is possible, a teacher is ...                                                                                         \n",
       "\n",
       "   5._Communication_–_How_does_an_Indian_converse_with_a_foreign_person?  \\\n",
       "0  Indirect communication, they will answer quest...                       \n",
       "1  Direct communication, people will tell you wha...                       \n",
       "2  Indirect communication, but still a straightfo...                       \n",
       "3  Indirect communication, they will answer quest...                       \n",
       "4  Indirect communication, they will answer quest...                       \n",
       "\n",
       "   6._A_supervisor_explains_to_an_Indian_student_an_unclear_topic._Then_he_asks_if_the_topic_is_now_clear?_  \\\n",
       "0  He will answer the supervisor’s immediate for ...                                                          \n",
       "1  Some students may use their body to indicate t...                                                          \n",
       "2  He will answer the supervisor’s immediate for ...                                                          \n",
       "3  Some students may use their body to indicate t...                                                          \n",
       "4  Some students may use their body to indicate t...                                                          \n",
       "\n",
       "   7._A_student_wants_to_point_another_student_out._What_is_the_common_way_to_do_that?  \\\n",
       "0  Point out with your chin since pointing finger...                                     \n",
       "1  Point out with your chin since pointing finger...                                     \n",
       "2   Whistle in the ears the name of the other person                                     \n",
       "3   Whistle in the ears the name of the other person                                     \n",
       "4  Point out with your chin since pointing finger...                                     \n",
       "\n",
       "   You_now_completed_4/5_pages._Please_continue_to_page_5/5  \\\n",
       "0                                           Continue          \n",
       "1                                           Continue          \n",
       "2                                           Continue          \n",
       "3                                           Continue          \n",
       "4                                           Continue          \n",
       "\n",
       "   You_now_completed_3/5_pages._Please_continue_to_page_4/5.1  \n",
       "0                                           Continue           \n",
       "1                                           Continue           \n",
       "2                                           Continue           \n",
       "3                                           Continue           \n",
       "4                                           Continue           \n",
       "\n",
       "[5 rows x 97 columns]"
      ]
     },
     "metadata": {},
     "output_type": "display_data"
    }
   ],
   "source": [
    "display(df_experiment.head())"
   ]
  },
  {
   "cell_type": "code",
   "execution_count": 9,
   "metadata": {},
   "outputs": [
    {
     "name": "stdout",
     "output_type": "stream",
     "text": [
      "Total number of participants:  61\n",
      "\n",
      "Different nationalities in survey: \n"
     ]
    },
    {
     "data": {
      "text/plain": [
       "India          20\n",
       "Germany        11\n",
       "Greece          4\n",
       "Tunesia         3\n",
       "Denemark        2\n",
       "Ecuador         2\n",
       "China           2\n",
       "Iran            2\n",
       "Israel          1\n",
       "Bangladesh      1\n",
       "Afghanistan     1\n",
       "Curacao         1\n",
       "Brasil          1\n",
       "Syria           1\n",
       "Brazil          1\n",
       "Pakistan        1\n",
       "Bulgaria        1\n",
       "Albania         1\n",
       "Srilanka        1\n",
       "Nederlands      1\n",
       "Russia          1\n",
       "Kamerun         1\n",
       "Ukraine         1\n",
       "Name: 1.1_Which_country_are_you_from?, dtype: int64"
      ]
     },
     "metadata": {},
     "output_type": "display_data"
    }
   ],
   "source": [
    "# How many countries answered the survey\n",
    "\n",
    "countries = df_experiment['1.1_Which_country_are_you_from?']\n",
    "print(\"Total number of participants: \", countries.count())\n",
    "print(\"\\nDifferent nationalities in survey: \")\n",
    "display(countries.value_counts())\n"
   ]
  },
  {
   "cell_type": "code",
   "execution_count": 10,
   "metadata": {
    "scrolled": true
   },
   "outputs": [
    {
     "name": "stderr",
     "output_type": "stream",
     "text": [
      "/home/maddy/anaconda3/envs/basics/lib/python3.6/site-packages/pandas/core/generic.py:4401: SettingWithCopyWarning: \n",
      "A value is trying to be set on a copy of a slice from a DataFrame.\n",
      "Try using .loc[row_indexer,col_indexer] = value instead\n",
      "\n",
      "See the caveats in the documentation: http://pandas.pydata.org/pandas-docs/stable/indexing.html#indexing-view-versus-copy\n",
      "  self[name] = value\n"
     ]
    },
    {
     "data": {
      "text/plain": [
       "Germany       8\n",
       "India         4\n",
       "Denemark      2\n",
       "Greece        2\n",
       "China         2\n",
       "Iran          2\n",
       "Nederlands    1\n",
       "Ecuador       1\n",
       "Russia        1\n",
       "Albania       1\n",
       "Brazil        1\n",
       "Bulgaria      1\n",
       "Brasil        1\n",
       "Tunesia       1\n",
       "Curacao       1\n",
       "Srilanka      1\n",
       "Ukraine       1\n",
       "Name: 1.1_Which_country_are_you_from?, dtype: int64"
      ]
     },
     "execution_count": 10,
     "metadata": {},
     "output_type": "execute_result"
    }
   ],
   "source": [
    "# score above 3 sorted by country\n",
    "\n",
    "country_based_score = df_experiment[['1.1_Which_country_are_you_from?', 'Score', 'Score3']]\n",
    "# temp = country_based_score.Score[1]\n",
    "# cleaning the scores\n",
    "country_based_score.Score = country_based_score.Score.map(lambda x: int(x[0]))\n",
    "country_based_score.Score3 = country_based_score.Score3.map(lambda x: int(x[0]))\n",
    "country_based_score_greaterthan3 = country_based_score.loc[(country_based_score['Score'] > 3) | (country_based_score['Score3'] > 3)]\n",
    "countries_count_score = country_based_score_greaterthan3['1.1_Which_country_are_you_from?']\n",
    "countries_count_score.value_counts()"
   ]
  },
  {
   "cell_type": "code",
   "execution_count": 11,
   "metadata": {},
   "outputs": [
    {
     "data": {
      "image/png": "[encoded data removed]",
      "text/plain": [
       "<Figure size 1440x720 with 1 Axes>"
      ]
     },
     "metadata": {},
     "output_type": "display_data"
    }
   ],
   "source": [
    "objects = countries_count_score.value_counts().index\n",
    "y_pos = np.arange(len(objects))\n",
    "performance = countries_count_score.value_counts()\n",
    " \n",
    "plt.figure(figsize=(20,10))\n",
    "plt.bar(y_pos, performance, align='center', alpha=0.5)\n",
    "plt.xticks(y_pos, objects)\n",
    "plt.ylabel('User count per country')\n",
    "plt.title('Highest grade')\n",
    "plt.savefig('highest-grade-country.png')\n",
    "plt.show()\n"
   ]
  },
  {
   "cell_type": "code",
   "execution_count": 12,
   "metadata": {},
   "outputs": [
    {
     "name": "stdout",
     "output_type": "stream",
     "text": [
      "Total number of people sorted by Gender: \n",
      " Males 50 Females 11\n",
      "Score above 3 sorted by Gender:\n",
      " Male      26\n",
      "Female     5\n",
      "Name: 1.2_Please_choose_your_gender, dtype: int64\n",
      "Percentage Males: 52% Females: 45%\n"
     ]
    },
    {
     "name": "stderr",
     "output_type": "stream",
     "text": [
      "/home/maddy/anaconda3/envs/basics/lib/python3.6/site-packages/pandas/core/generic.py:4401: SettingWithCopyWarning: \n",
      "A value is trying to be set on a copy of a slice from a DataFrame.\n",
      "Try using .loc[row_indexer,col_indexer] = value instead\n",
      "\n",
      "See the caveats in the documentation: http://pandas.pydata.org/pandas-docs/stable/indexing.html#indexing-view-versus-copy\n",
      "  self[name] = value\n"
     ]
    }
   ],
   "source": [
    "# Score above 3 sorted by gender\n",
    "\n",
    "gender_based_score = df_experiment[['1.2_Please_choose_your_gender', 'Score', 'Score3']]\n",
    "total_males = gender_based_score.loc[gender_based_score['1.2_Please_choose_your_gender'] == \"Male\"]\n",
    "total_males = total_males.count()\n",
    "total_females = gender_based_score.loc[gender_based_score['1.2_Please_choose_your_gender'] == \"Female\"]\n",
    "total_females = total_females.count()\n",
    "gender_based_score.Score = gender_based_score.Score.map(lambda x: int(x[0]))\n",
    "gender_based_score.Score3 = gender_based_score.Score3.map(lambda x: int(x[0]))\n",
    "gender_based_score_greaterthan3 = gender_based_score.loc[(gender_based_score['Score'] > 3) | (gender_based_score['Score3'] > 3)]\n",
    "gender_count_score = gender_based_score_greaterthan3['1.2_Please_choose_your_gender']\n",
    "print(\"Total number of people sorted by Gender: \\n Males %d Females %d\" %(total_males[1], total_females[1]) )\n",
    "print(\"Score above 3 sorted by Gender:\\n\", gender_count_score.value_counts())\n",
    "\n",
    "calculate_percentage_males = (26/total_males[1]) * 100\n",
    "calculate_percentage_females = (5/total_females[1]) * 100\n",
    "print(\"Percentage Males: %d%% Females: %d%%\" %(calculate_percentage_males, calculate_percentage_females))"
   ]
  },
  {
   "cell_type": "code",
   "execution_count": 13,
   "metadata": {},
   "outputs": [
    {
     "data": {
      "image/png": "[encoded data removed]",
      "text/plain": [
       "<Figure size 360x360 with 1 Axes>"
      ]
     },
     "metadata": {},
     "output_type": "display_data"
    }
   ],
   "source": [
    "objects = ('Male', 'Female')\n",
    "y_pos = np.arange(len(objects))\n",
    "performance = [26, 5]\n",
    " \n",
    "plt.figure(figsize=(5,5))\n",
    "plt.bar(y_pos, performance, align='center', alpha=0.5)\n",
    "plt.xticks(y_pos, objects)\n",
    "plt.ylabel('User count per Gender')\n",
    "plt.title('Gender')\n",
    "plt.savefig('highest-grade-gender.png')\n",
    "plt.show()"
   ]
  },
  {
   "cell_type": "code",
   "execution_count": 20,
   "metadata": {},
   "outputs": [
    {
     "data": {
      "text/plain": [
       "<matplotlib.axes._subplots.AxesSubplot at 0x7fb27f0b94a8>"
      ]
     },
     "execution_count": 20,
     "metadata": {},
     "output_type": "execute_result"
    },
    {
     "data": {
      "image/png": "[encoded data removed]",
      "text/plain": [
       "<Figure size 1440x360 with 1 Axes>"
      ]
     },
     "metadata": {},
     "output_type": "display_data"
    }
   ],
   "source": [
    "sns.set( context='talk', rc={'figure.figsize':(20, 5)})\n",
    "sns.swarmplot('1.1_Which_country_are_you_from?', 'Age', data=df_experiment)"
   ]
  },
  {
   "cell_type": "code",
   "execution_count": 15,
   "metadata": {},
   "outputs": [
    {
     "ename": "SyntaxError",
     "evalue": "invalid syntax (<ipython-input-15-d152a33dc18f>, line 2)",
     "output_type": "error",
     "traceback": [
      "\u001b[0;36m  File \u001b[0;32m\"<ipython-input-15-d152a33dc18f>\"\u001b[0;36m, line \u001b[0;32m2\u001b[0m\n\u001b[0;31m    check how BF and Score relate to each other\u001b[0m\n\u001b[0m            ^\u001b[0m\n\u001b[0;31mSyntaxError\u001b[0m\u001b[0;31m:\u001b[0m invalid syntax\n"
     ]
    }
   ],
   "source": [
    "BF, Score(BY)\n",
    "check how BF and Score relate to each other"
   ]
  },
  {
   "cell_type": "code",
   "execution_count": null,
   "metadata": {},
   "outputs": [],
   "source": [
    "separate India from dataframe\n",
    "compare calc values for them"
   ]
  }
 ],
 "metadata": {
  "kernelspec": {
   "display_name": "Python 3",
   "language": "python",
   "name": "python3"
  },
  "language_info": {
   "codemirror_mode": {
    "name": "ipython",
    "version": 3
   },
   "file_extension": ".py",
   "mimetype": "text/x-python",
   "name": "python",
   "nbconvert_exporter": "python",
   "pygments_lexer": "ipython3",
   "version": "3.6.5"
  }
 },
 "nbformat": 4,
 "nbformat_minor": 2
}
